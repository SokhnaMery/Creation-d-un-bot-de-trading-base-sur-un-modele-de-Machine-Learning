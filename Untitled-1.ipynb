{
 "cells": [
  {
   "cell_type": "code",
   "execution_count": 5,
   "metadata": {},
   "outputs": [
    {
     "name": "stdout",
     "output_type": "stream",
     "text": [
      "Collecting psycopg2\n",
      "  Using cached psycopg2-2.9.9.tar.gz (384 kB)\n",
      "Using legacy 'setup.py install' for psycopg2, since package 'wheel' is not installed.\n",
      "Installing collected packages: psycopg2\n",
      "    Running setup.py install for psycopg2 ... \u001b[?25ldone\n",
      "\u001b[?25hSuccessfully installed psycopg2-2.9.9\n",
      "\u001b[33mWARNING: You are using pip version 20.2.3; however, version 24.1.1 is available.\n",
      "You should consider upgrading via the '/Users/meryngom/Documents/Projet-fil-rouge/Creation-d-un-bot-de-trading-base-sur-un-modele-de-Machine-Learning/env/bin/python -m pip install --upgrade pip' command.\u001b[0m\n",
      "Note: you may need to restart the kernel to use updated packages.\n"
     ]
    }
   ],
   "source": [
    "pip install psycopg2"
   ]
  },
  {
   "cell_type": "code",
   "execution_count": 24,
   "metadata": {},
   "outputs": [],
   "source": [
    "import os\n",
    "import psycopg2 \n",
    "user = os.getenv(\"DB_USER\")\n",
    "password = os.getenv(\"DB_PASSWORD\")\n",
    "#adress = os.getenv(\"DB_ADRESS\")\n",
    "address = os.environ['DB_ADDRESS']"
   ]
  },
  {
   "cell_type": "code",
   "execution_count": 25,
   "metadata": {},
   "outputs": [
    {
     "name": "stdout",
     "output_type": "stream",
     "text": [
      "DB_USER: machine_mery\n",
      "DB_PASSWORD: ABBY2022\n",
      "DB_ADDRESS: ec2-51-20-81-23.eu-north-1.compute.amazonaws.com\n"
     ]
    }
   ],
   "source": [
    "# Imprimer les variables d'environnement pour vérifier leur contenu\n",
    "print(f\"DB_USER: {user}\")\n",
    "print(f\"DB_PASSWORD: {password}\")\n",
    "print(f\"DB_ADDRESS: {address}\")"
   ]
  },
  {
   "cell_type": "code",
   "execution_count": 26,
   "metadata": {},
   "outputs": [
    {
     "name": "stdout",
     "output_type": "stream",
     "text": [
      " connexion à la base de donnees\n"
     ]
    }
   ],
   "source": [
    "conn_string = f\"postgresql://{user}:{password}@{adress}:5432/data_binance\"\n",
    "\n",
    "print (' connexion à la base de donnees')"
   ]
  },
  {
   "cell_type": "code",
   "execution_count": 27,
   "metadata": {},
   "outputs": [
    {
     "name": "stdout",
     "output_type": "stream",
     "text": [
      "jsJe77tNrDJuL6anELSpKHkrqyW7gqLLmr0xmL6JVqeXxsMrQCqkME8N6FMuy1qd\n",
      "6GJj7568ztTGZpgIMP0LZyf0laVl8l3QjTgRvN7kLqlpvSizM6MdLtebBPQHFwle\n"
     ]
    }
   ],
   "source": [
    "KEY = os.environ.get(\"API_KEY\")\n",
    "SECRET = os.environ.get(\"SECRET_KEY\")\n",
    "\n",
    "print(KEY)\n",
    "print(SECRET)"
   ]
  },
  {
   "cell_type": "code",
   "execution_count": 29,
   "metadata": {},
   "outputs": [],
   "source": [
    "import websocket\n",
    "import json\n",
    "import pandas as pd\n",
    "import psycopg2\n",
    "import os"
   ]
  },
  {
   "cell_type": "code",
   "execution_count": null,
   "metadata": {},
   "outputs": [],
   "source": []
  }
 ],
 "metadata": {
  "kernelspec": {
   "display_name": "env",
   "language": "python",
   "name": "python3"
  },
  "language_info": {
   "codemirror_mode": {
    "name": "ipython",
    "version": 3
   },
   "file_extension": ".py",
   "mimetype": "text/x-python",
   "name": "python",
   "nbconvert_exporter": "python",
   "pygments_lexer": "ipython3",
   "version": "3.9.2"
  }
 },
 "nbformat": 4,
 "nbformat_minor": 2
}
