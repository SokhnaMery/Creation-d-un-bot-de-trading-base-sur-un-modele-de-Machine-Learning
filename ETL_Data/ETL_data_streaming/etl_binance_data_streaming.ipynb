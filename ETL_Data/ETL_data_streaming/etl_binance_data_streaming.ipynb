{
 "cells": [
  {
   "cell_type": "code",
   "execution_count": 3,
   "metadata": {},
   "outputs": [],
   "source": [
    "import websocket\n",
    "import json\n",
    "import pandas as pd\n",
    "import psycopg2\n",
    "import os"
   ]
  },
  {
   "cell_type": "code",
   "execution_count": 4,
   "metadata": {},
   "outputs": [],
   "source": [
    "# Connection à la base des données Posgresql sur le cloud\n",
    "# Récupération des informations de connexion à partir des variables d'environnement\n",
    "import os \n",
    "user = os.getenv(\"DB_USER\")\n",
    "password = os.getenv(\"DB_PASSWORD\")\n",
    "#adress = os.getenv(\"DB_ADDRESS\")\n",
    "adress = os.environ['DB_ADDRESS']\n",
    "conn_string = f\"postgresql://{user}:{password}@{adress}:5432/database_binance\"\n",
    "conn = psycopg2.connect(conn_string)\n",
    "cursor = conn.cursor()"
   ]
  },
  {
   "cell_type": "code",
   "execution_count": 5,
   "metadata": {},
   "outputs": [],
   "source": [
    "# Création d'un DataFrame vide\n",
    "streaming_df = pd.DataFrame(columns=[\"symbol\",\"Timestamp\", \"Open\", \"High\", \"Low\", \"Close\", \"Volume\", \"Trades\"], index=[1])\n",
    "\n",
    "# Définition de socket pour suivre les prix des cryptos (interval d'1h)\n",
    "socket = \"wss://stream.binance.com:9443/stream?streams=btcusdt@kline_1h/ethusdt@kline_1h/bnbusdt@kline_1h/solusdt@kline_1h/xrpusdt@kline_1h\""
   ]
  },
  {
   "cell_type": "code",
   "execution_count": 24,
   "metadata": {},
   "outputs": [
    {
     "name": "stdout",
     "output_type": "stream",
     "text": [
      "Lancement du streaming\n",
      "ligne à inserer en base\n",
      "Les données ont été envoyées...\n",
      "ligne à inserer en base\n",
      "Les données ont été envoyées...\n",
      "ligne à inserer en base\n",
      "Les données ont été envoyées...\n",
      "ligne à inserer en base\n",
      "Les données ont été envoyées...\n",
      "ligne à inserer en base\n",
      "Les données ont été envoyées...\n",
      "ligne à inserer en base\n",
      "Les données ont été envoyées...\n",
      "ligne à inserer en base\n",
      "Les données ont été envoyées...\n",
      "ligne à inserer en base\n",
      "Les données ont été envoyées...\n",
      "ligne à inserer en base\n",
      "Les données ont été envoyées...\n",
      "ligne à inserer en base\n",
      "Les données ont été envoyées...\n",
      "Le streaming a été arreté\n"
     ]
    },
    {
     "data": {
      "text/plain": [
       "websocket._core.WebSocket"
      ]
     },
     "execution_count": 24,
     "metadata": {},
     "output_type": "execute_result"
    }
   ],
   "source": [
    "\n",
    "# Définition de la fonction de sauvegardes des données dans la bdd\n",
    "def on_message(ws, message):\n",
    "  message = json.loads(message)\n",
    "\n",
    "  # Récuperation des données de bougies (Open, High, Low, Close, Volume, Trades)\n",
    "  kline_data = message['data']['k']\n",
    "\n",
    "  if kline_data['x']:  # Si x = True, alors il s'agit de la clôture de la bougie d'1 heure\n",
    "    symbol = kline_data['s']\n",
    "    Timestamp = pd.to_datetime(kline_data['T'], unit='ms')\n",
    "    Open = float(kline_data['o'])\n",
    "    High = float(kline_data['h'])\n",
    "    Low = float(kline_data['l'])\n",
    "    Close =  float(kline_data['c'])\n",
    "    Volume = float(kline_data['v'])\n",
    "    Trades = int(kline_data['n'])\n",
    "    streaming_df.iloc[0] = [symbol, Timestamp, Open, High, Low, Close, Volume, Trades]\n",
    "    print('ligne à inserer en base')\n",
    "\n",
    "  # construction de la chaine de caractere de la requete sql d'insertion des donnees\n",
    "    insert_query = \"\"\"INSERT INTO streaming_klines(symbol, timestamp, open, high, low, close, volume, trades)\tVALUES (%s,%s,%s,%s,%s,%s,%s,%s)\"\"\"\n",
    "\n",
    "    # construction de la ligne de donnees a inserer dans la table en base de donnees\n",
    "    record_to_insert = (symbol, Timestamp, Open, High, Low, Close, Volume, Trades)\n",
    "\n",
    "    # execution de la requete sql d insertion de la ligne dans la table\n",
    "    cursor.execute(insert_query, record_to_insert)\n",
    "\n",
    "    # validation de l'insertion\n",
    "    cursor.execute(\"commit\")\n",
    "    print(\"Les données ont été envoyées...\")\n",
    "\n",
    "# Lancement de streaming\n",
    "ws = websocket.WebSocketApp(socket, on_message=on_message)\n",
    "print(\"Lancement du streaming\")\n",
    "ws.run_forever()\n",
    "print(\"Le streaming a été arreté\")\n",
    "websocket.WebSocket"
   ]
  },
  {
   "cell_type": "code",
   "execution_count": null,
   "metadata": {},
   "outputs": [],
   "source": []
  }
 ],
 "metadata": {
  "kernelspec": {
   "display_name": "Python 3",
   "language": "python",
   "name": "python3"
  },
  "language_info": {
   "codemirror_mode": {
    "name": "ipython",
    "version": 3
   },
   "file_extension": ".py",
   "mimetype": "text/x-python",
   "name": "python",
   "nbconvert_exporter": "python",
   "pygments_lexer": "ipython3",
   "version": "3.9.2"
  }
 },
 "nbformat": 4,
 "nbformat_minor": 2
}
